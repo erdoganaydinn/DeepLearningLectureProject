{
 "cells": [
  {
   "cell_type": "code",
   "execution_count": 1,
   "id": "280a37a1",
   "metadata": {},
   "outputs": [
    {
     "name": "stderr",
     "output_type": "stream",
     "text": [
      "C:\\anaconda3\\lib\\site-packages\\numpy\\_distributor_init.py:30: UserWarning: loaded more than 1 DLL from .libs:\n",
      "C:\\anaconda3\\lib\\site-packages\\numpy\\.libs\\libopenblas.FB5AE2TYXYH2IJRDKGDGQ3XBKLKTF43H.gfortran-win_amd64.dll\n",
      "C:\\anaconda3\\lib\\site-packages\\numpy\\.libs\\libopenblas64__v0.3.21-gcc_10_3_0.dll\n",
      "  warnings.warn(\"loaded more than 1 DLL from .libs:\"\n"
     ]
    }
   ],
   "source": [
    "import os\n",
    "import shutil\n",
    "from sklearn.model_selection import train_test_split\n",
    "\n",
    "def splitDataWithCondition(original_dataset_path,base_dir,testValidationSize=[],classnames = [],isValidation=False,shuffle=True):\n",
    "\n",
    "    os.makedirs(base_dir, exist_ok=True)\n",
    "    # Train, test ve validasyon klasörlerini oluşturun\n",
    "    train_dir = os.path.join(base_dir, 'train')\n",
    "    os.makedirs(train_dir, exist_ok=True)\n",
    "\n",
    "    test_dir = os.path.join(base_dir, 'test')\n",
    "    os.makedirs(test_dir, exist_ok=True)\n",
    "    if isValidation:\n",
    "        val_dir = os.path.join(base_dir, 'validation')\n",
    "        os.makedirs(val_dir, exist_ok=True)\n",
    "\n",
    "    for class_name in classnames:\n",
    "        class_path = os.path.join(original_dataset_path, class_name)\n",
    "\n",
    "        train_class_path = os.path.join(train_dir, class_name)\n",
    "        os.makedirs(train_class_path, exist_ok=True)\n",
    "\n",
    "        test_class_path = os.path.join(test_dir, class_name)\n",
    "        os.makedirs(test_class_path, exist_ok=True)\n",
    "        if isValidation:\n",
    "            val_class_path = os.path.join(val_dir, class_name)\n",
    "            os.makedirs(val_class_path, exist_ok=True)\n",
    "\n",
    "        class_images = os.listdir(class_path)\n",
    "\n",
    "        train_images, test_images = train_test_split(class_images, test_size=testValidationSize[0], random_state=42,shuffle=shuffle)\n",
    "        if isValidation:\n",
    "            train_images, val_images = train_test_split(train_images, test_size=testValidationSize[1], random_state=42,shuffle=shuffle)\n",
    "\n",
    "        # Train verisini kopyala\n",
    "        for img in train_images:\n",
    "            src_path = os.path.join(class_path, img)\n",
    "            dst_path = os.path.join(train_class_path, img)\n",
    "            shutil.copy(src_path, dst_path)\n",
    "\n",
    "        # Test verisini kopyala\n",
    "        for img in test_images:\n",
    "            src_path = os.path.join(class_path, img)\n",
    "            dst_path = os.path.join(test_class_path, img)\n",
    "            shutil.copy(src_path, dst_path)\n",
    "        if isValidation:\n",
    "            # Validation verisini kopyala\n",
    "            for img in val_images:\n",
    "                src_path = os.path.join(class_path, img)\n",
    "                dst_path = os.path.join(val_class_path, img)\n",
    "                shutil.copy(src_path, dst_path)\n",
    "    print(\"Data correctly splited...\")\n",
    "    "
   ]
  },
  {
   "cell_type": "code",
   "execution_count": 4,
   "id": "b29b1f03",
   "metadata": {},
   "outputs": [
    {
     "name": "stdout",
     "output_type": "stream",
     "text": [
      "Data correctly splited...\n"
     ]
    }
   ],
   "source": [
    "# condition 1\n",
    "\"\"\"\n",
    "splitDataWithCondition(\"./lung_image_sets/\",\n",
    "                       \"./1-condition-splited-data\",\n",
    "                       [0.2,0.1],\n",
    "                       ['lung_adenocarcinoma','lung_benign tissue','lung_squamous cell carcinoma'],\n",
    "                       True,\n",
    "                       True)\n",
    "                       \n",
    "\"\"\""
   ]
  },
  {
   "cell_type": "code",
   "execution_count": 2,
   "id": "17c68edd",
   "metadata": {},
   "outputs": [
    {
     "name": "stdout",
     "output_type": "stream",
     "text": [
      "Data correctly splited...\n"
     ]
    }
   ],
   "source": [
    "# condition 4\n",
    "splitDataWithCondition(\"./lung_image_sets/\",\n",
    "                       \"./4-condition-splited-data\",\n",
    "                       [0.35,0.1],\n",
    "                       ['lung_adenocarcinoma','lung_benign tissue','lung_squamous cell carcinoma'],\n",
    "                       True,\n",
    "                       True)"
   ]
  },
  {
   "cell_type": "code",
   "execution_count": null,
   "id": "2ece8ef5",
   "metadata": {},
   "outputs": [],
   "source": []
  }
 ],
 "metadata": {
  "kernelspec": {
   "display_name": "Python 3 (ipykernel)",
   "language": "python",
   "name": "python3"
  },
  "language_info": {
   "codemirror_mode": {
    "name": "ipython",
    "version": 3
   },
   "file_extension": ".py",
   "mimetype": "text/x-python",
   "name": "python",
   "nbconvert_exporter": "python",
   "pygments_lexer": "ipython3",
   "version": "3.9.13"
  }
 },
 "nbformat": 4,
 "nbformat_minor": 5
}
