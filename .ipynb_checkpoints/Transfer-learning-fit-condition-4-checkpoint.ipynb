{
 "cells": [
  {
   "cell_type": "code",
   "execution_count": 1,
   "id": "314b5265",
   "metadata": {},
   "outputs": [
    {
     "name": "stderr",
     "output_type": "stream",
     "text": [
      "C:\\anaconda3\\lib\\site-packages\\numpy\\_distributor_init.py:30: UserWarning: loaded more than 1 DLL from .libs:\n",
      "C:\\anaconda3\\lib\\site-packages\\numpy\\.libs\\libopenblas.FB5AE2TYXYH2IJRDKGDGQ3XBKLKTF43H.gfortran-win_amd64.dll\n",
      "C:\\anaconda3\\lib\\site-packages\\numpy\\.libs\\libopenblas64__v0.3.21-gcc_10_3_0.dll\n",
      "  warnings.warn(\"loaded more than 1 DLL from .libs:\"\n"
     ]
    }
   ],
   "source": [
    "import torchvision.transforms as transforms\n",
    "from torchvision.datasets import ImageFolder\n",
    "from torch.utils.data import DataLoader\n",
    "\n",
    "\n",
    "dataset_root = '4-condition-splited-data'\n",
    "\n",
    "\n",
    "transform = transforms.Compose([\n",
    "    transforms.Resize((224, 224)),  \n",
    "    transforms.ToTensor(),         \n",
    "    transforms.Normalize(mean=[0.485, 0.456, 0.406], std=[0.229, 0.224, 0.225])\n",
    "])\n",
    "\n",
    "train_dataset = ImageFolder(root=dataset_root + '/train', transform=transform)\n",
    "test_dataset = ImageFolder(root=dataset_root + '/test', transform=transform)\n",
    "val_dataset = ImageFolder(root=dataset_root+\"/validation\",transform=transform)\n",
    "\n",
    "\n",
    "batch_size = 32\n",
    "train_loader = DataLoader(train_dataset, batch_size=batch_size, shuffle=True)\n",
    "test_loader = DataLoader(test_dataset, batch_size=batch_size, shuffle=False)\n",
    "val_loader = DataLoader(val_dataset, batch_size=batch_size, shuffle=False)"
   ]
  },
  {
   "cell_type": "code",
   "execution_count": 2,
   "id": "91844c02",
   "metadata": {},
   "outputs": [
    {
     "name": "stdout",
     "output_type": "stream",
     "text": [
      "Epoch [1/15], Training Loss: 0.4189469814300537\n",
      "Test Loss: 0.012311111230116623, Test Accuracy: 90.66666666666666%\n",
      "Epoch [2/15], Training Loss: 0.26796025037765503\n",
      "Test Loss: 0.00884578939431753, Test Accuracy: 92.2051282051282%\n",
      "Epoch [3/15], Training Loss: 0.2118772566318512\n",
      "Test Loss: 0.007607288123705448, Test Accuracy: 93.53846153846153%\n",
      "Epoch [4/15], Training Loss: 0.38172775506973267\n",
      "Test Loss: 0.006802713527129247, Test Accuracy: 93.43589743589743%\n",
      "Epoch [5/15], Training Loss: 0.533160388469696\n",
      "Test Loss: 0.0060750299023512085, Test Accuracy: 94.76923076923077%\n",
      "Epoch [6/15], Training Loss: 0.2786930203437805\n",
      "Test Loss: 0.005808188533171629, Test Accuracy: 94.46153846153847%\n",
      "Epoch [7/15], Training Loss: 0.10709529370069504\n",
      "Test Loss: 0.005367168008516996, Test Accuracy: 94.87179487179486%\n",
      "Epoch [8/15], Training Loss: 0.15110830962657928\n",
      "Test Loss: 0.0052075456598630315, Test Accuracy: 95.28205128205128%\n",
      "Epoch [9/15], Training Loss: 0.1712384670972824\n",
      "Test Loss: 0.005057044390302438, Test Accuracy: 94.97435897435898%\n",
      "Epoch [10/15], Training Loss: 0.4430220127105713\n",
      "Test Loss: 0.004805197788354678, Test Accuracy: 94.76923076923077%\n",
      "Epoch [11/15], Training Loss: 0.20971666276454926\n",
      "Test Loss: 0.004730024870771628, Test Accuracy: 95.6923076923077%\n",
      "Epoch [12/15], Training Loss: 0.3429771065711975\n",
      "Test Loss: 0.004638911617489962, Test Accuracy: 95.28205128205128%\n",
      "Epoch [13/15], Training Loss: 0.2492101490497589\n",
      "Test Loss: 0.004463362624056828, Test Accuracy: 95.48717948717949%\n",
      "Epoch [14/15], Training Loss: 0.14017507433891296\n",
      "Test Loss: 0.004430035119637465, Test Accuracy: 95.58974358974359%\n",
      "Epoch [15/15], Training Loss: 0.4441060721874237\n",
      "Test Loss: 0.004327424738842707, Test Accuracy: 95.58974358974359%\n"
     ]
    }
   ],
   "source": [
    "import torch\n",
    "import torch.nn as nn\n",
    "import torchvision.models as models\n",
    "\n",
    "# Assuming you have a DataLoader named 'train_loader' and 'test_loader'\n",
    "# Assuming you have defined 'test_data.num_classes'\n",
    "\n",
    "device = torch.device(\"cuda\" if torch.cuda.is_available() else \"cpu\")\n",
    "model = models.resnet18(weights='IMAGENET1K_V1')\n",
    "model.fc = nn.Linear(model.fc.in_features,len(train_dataset.classes))\n",
    "\n",
    "# Move the model to GPU\n",
    "model = model.to(device)\n",
    "\n",
    "# Optionally freeze pre-trained layers\n",
    "for param in model.parameters():\n",
    "    param.requires_grad = False\n",
    "\n",
    "# Allow optimization only for the final fully connected layer\n",
    "for param in model.fc.parameters():\n",
    "    param.requires_grad = True\n",
    "\n",
    "# Define the loss function and optimizer\n",
    "criterion = nn.CrossEntropyLoss()\n",
    "optimizer = torch.optim.SGD(model.parameters(), lr=0.001)\n",
    "\n",
    "# Training loop\n",
    "num_epochs = 15\n",
    "\n",
    "for epoch in range(num_epochs):\n",
    "    model.train()\n",
    "\n",
    "    for inputs, labels in train_loader:\n",
    "        inputs, labels = inputs.to(device), labels.to(device)\n",
    "        optimizer.zero_grad()\n",
    "        outputs = model(inputs)\n",
    "        loss = criterion(outputs, labels)\n",
    "        loss.backward()\n",
    "        optimizer.step()\n",
    "\n",
    "    print(f'Epoch [{epoch + 1}/{num_epochs}], Training Loss: {loss.item()}')\n",
    "\n",
    "    # Test the model after each epoch\n",
    "    model.eval()\n",
    "    test_loss = 0.0\n",
    "    correct = 0\n",
    "\n",
    "    with torch.no_grad():\n",
    "        for inputs, labels in val_loader:\n",
    "            inputs, labels = inputs.to(device), labels.to(device)\n",
    "            outputs = model(inputs)\n",
    "            test_loss += criterion(outputs, labels).item()\n",
    "            _, predicted = torch.max(outputs, 1)\n",
    "            correct += (predicted == labels).sum().item()\n",
    "\n",
    "    test_loss /= len(val_loader.dataset)\n",
    "    accuracy = correct / len(val_loader.dataset) * 100.0\n",
    "\n",
    "    print(f'Test Loss: {test_loss}, Test Accuracy: {accuracy}%')\n"
   ]
  },
  {
   "cell_type": "code",
   "execution_count": 3,
   "id": "67f26018",
   "metadata": {},
   "outputs": [],
   "source": [
    "torch.save(model.state_dict(), \"transfer-learning-condition-4-fit.pth\")"
   ]
  },
  {
   "cell_type": "code",
   "execution_count": null,
   "id": "eb5d7d23",
   "metadata": {},
   "outputs": [],
   "source": []
  },
  {
   "cell_type": "code",
   "execution_count": null,
   "id": "aef7e566",
   "metadata": {},
   "outputs": [],
   "source": []
  }
 ],
 "metadata": {
  "kernelspec": {
   "display_name": "Python 3 (ipykernel)",
   "language": "python",
   "name": "python3"
  },
  "language_info": {
   "codemirror_mode": {
    "name": "ipython",
    "version": 3
   },
   "file_extension": ".py",
   "mimetype": "text/x-python",
   "name": "python",
   "nbconvert_exporter": "python",
   "pygments_lexer": "ipython3",
   "version": "3.9.13"
  }
 },
 "nbformat": 4,
 "nbformat_minor": 5
}
